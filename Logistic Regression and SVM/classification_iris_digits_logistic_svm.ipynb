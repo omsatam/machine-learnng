{
 "cells": [
  {
   "cell_type": "markdown",
   "metadata": {},
   "source": [
    "# Logistic Regression and SVM"
   ]
  },
  {
   "cell_type": "markdown",
   "metadata": {},
   "source": [
    "**Importing required libraries**"
   ]
  },
  {
   "cell_type": "code",
   "execution_count": 1,
   "metadata": {},
   "outputs": [],
   "source": [
    "import numpy as np\n",
    "import pandas as pd\n",
    "import matplotlib.pyplot as plt \n",
    "from sklearn.datasets import load_digits\n",
    "from sklearn.linear_model import LogisticRegression\n",
    "from sklearn.model_selection import train_test_split"
   ]
  },
  {
   "cell_type": "markdown",
   "metadata": {},
   "source": [
    "**Loading data and selecting dependent and independent variables**"
   ]
  },
  {
   "cell_type": "code",
   "execution_count": 2,
   "metadata": {},
   "outputs": [
    {
     "data": {
      "text/plain": [
       "(1797, 64)"
      ]
     },
     "execution_count": 2,
     "metadata": {},
     "output_type": "execute_result"
    }
   ],
   "source": [
    "iris= load_digits()\n",
    "x=iris.data\n",
    "y=iris.target\n",
    "x.shape"
   ]
  },
  {
   "cell_type": "markdown",
   "metadata": {},
   "source": [
    "**Splitting data into training data and testing data**"
   ]
  },
  {
   "cell_type": "code",
   "execution_count": 3,
   "metadata": {},
   "outputs": [
    {
     "data": {
      "text/plain": [
       "(540, 64)"
      ]
     },
     "execution_count": 3,
     "metadata": {},
     "output_type": "execute_result"
    }
   ],
   "source": [
    "\n",
    "x_train,x_test,y_train,y_test= train_test_split(x,y,test_size = 0.3)\n",
    "x_train.shape\n",
    "x_test.shape"
   ]
  },
  {
   "cell_type": "markdown",
   "metadata": {},
   "source": [
    "**Selecting model and training data**"
   ]
  },
  {
   "cell_type": "code",
   "execution_count": 4,
   "metadata": {},
   "outputs": [
    {
     "name": "stdout",
     "output_type": "stream",
     "text": [
      "Wall time: 0 ns\n"
     ]
    },
    {
     "name": "stderr",
     "output_type": "stream",
     "text": [
      "C:\\Users\\SKRUTI\\anaconda3\\lib\\site-packages\\sklearn\\linear_model\\_logistic.py:940: ConvergenceWarning: lbfgs failed to converge (status=1):\n",
      "STOP: TOTAL NO. of ITERATIONS REACHED LIMIT.\n",
      "\n",
      "Increase the number of iterations (max_iter) or scale the data as shown in:\n",
      "    https://scikit-learn.org/stable/modules/preprocessing.html\n",
      "Please also refer to the documentation for alternative solver options:\n",
      "    https://scikit-learn.org/stable/modules/linear_model.html#logistic-regression\n",
      "  extra_warning_msg=_LOGISTIC_SOLVER_CONVERGENCE_MSG)\n"
     ]
    },
    {
     "data": {
      "text/plain": [
       "LogisticRegression(C=1.0, class_weight=None, dual=False, fit_intercept=True,\n",
       "                   intercept_scaling=1, l1_ratio=None, max_iter=100,\n",
       "                   multi_class='auto', n_jobs=None, penalty='l2',\n",
       "                   random_state=None, solver='lbfgs', tol=0.0001, verbose=0,\n",
       "                   warm_start=False)"
      ]
     },
     "execution_count": 4,
     "metadata": {},
     "output_type": "execute_result"
    }
   ],
   "source": [
    "%time\n",
    "model = LogisticRegression()\n",
    "model.fit(x_train,y_train)"
   ]
  },
  {
   "cell_type": "markdown",
   "metadata": {},
   "source": [
    "**Predicting output**"
   ]
  },
  {
   "cell_type": "code",
   "execution_count": 5,
   "metadata": {},
   "outputs": [
    {
     "data": {
      "text/plain": [
       "array([5, 1, 6, 5, 7, 0, 9, 5, 8, 1, 6, 7, 6, 7, 6, 6, 9, 7, 6, 2, 2, 6,\n",
       "       8, 4, 6, 9, 3, 7, 4, 5, 1, 0, 8, 3, 7, 6, 6, 6, 8, 1, 4, 8, 6, 4,\n",
       "       7, 1, 8, 7, 5, 8, 6, 5, 9, 5, 7, 1, 4, 6, 2, 4, 8, 3, 4, 0, 8, 7,\n",
       "       6, 5, 9, 8, 2, 9, 3, 9, 4, 4, 5, 6, 0, 1, 0, 8, 3, 4, 1, 6, 7, 7,\n",
       "       3, 5, 2, 8, 7, 5, 3, 3, 5, 5, 1, 6, 3, 5, 9, 0, 0, 9, 4, 1, 3, 8,\n",
       "       0, 8, 2, 8, 7, 3, 1, 9, 2, 3, 2, 2, 2, 5, 3, 7, 6, 5, 1, 8, 9, 9,\n",
       "       6, 3, 3, 6, 5, 1, 2, 4, 5, 2, 5, 2, 7, 4, 8, 0, 9, 2, 1, 1, 4, 4,\n",
       "       9, 0, 1, 3, 1, 3, 7, 2, 4, 3, 0, 3, 0, 2, 1, 9, 0, 7, 1, 7, 9, 7,\n",
       "       0, 7, 3, 2, 8, 6, 6, 3, 3, 3, 3, 1, 6, 3, 5, 0, 6, 0, 3, 2, 4, 7,\n",
       "       6, 0, 7, 8, 9, 2, 7, 1, 5, 8, 3, 4, 5, 7, 3, 9, 8, 3, 9, 5, 6, 6,\n",
       "       4, 1, 2, 2, 7, 1, 1, 7, 7, 5, 5, 9, 2, 5, 6, 2, 2, 6, 5, 7, 7, 7,\n",
       "       5, 8, 3, 3, 4, 7, 8, 1, 5, 5, 4, 9, 8, 8, 8, 4, 6, 9, 1, 4, 9, 5,\n",
       "       8, 8, 5, 1, 8, 6, 1, 3, 9, 7, 7, 0, 5, 8, 2, 3, 0, 8, 0, 1, 3, 1,\n",
       "       1, 6, 9, 8, 7, 0, 1, 4, 6, 6, 7, 9, 0, 2, 2, 5, 0, 4, 8, 2, 8, 5,\n",
       "       2, 2, 4, 5, 9, 1, 2, 1, 2, 4, 1, 8, 4, 1, 2, 9, 5, 7, 4, 5, 3, 2,\n",
       "       9, 2, 3, 6, 0, 0, 1, 5, 0, 1, 5, 1, 2, 7, 5, 8, 8, 0, 9, 5, 6, 3,\n",
       "       9, 1, 5, 7, 4, 1, 7, 5, 8, 9, 6, 5, 4, 0, 1, 0, 8, 9, 3, 0, 2, 3,\n",
       "       4, 7, 2, 0, 0, 4, 7, 4, 9, 4, 7, 2, 8, 1, 3, 0, 7, 2, 3, 5, 3, 9,\n",
       "       6, 3, 0, 6, 2, 9, 4, 4, 2, 1, 8, 2, 4, 7, 8, 1, 2, 9, 6, 5, 6, 5,\n",
       "       1, 1, 6, 5, 0, 4, 2, 4, 2, 1, 2, 0, 9, 1, 3, 0, 6, 2, 5, 7, 4, 8,\n",
       "       9, 0, 9, 8, 7, 5, 7, 7, 9, 8, 7, 5, 9, 9, 1, 0, 7, 9, 8, 2, 1, 8,\n",
       "       7, 7, 1, 8, 2, 0, 0, 4, 2, 6, 3, 2, 7, 9, 9, 6, 3, 9, 6, 6, 3, 3,\n",
       "       4, 4, 3, 0, 0, 9, 2, 1, 1, 0, 4, 9, 2, 4, 5, 9, 2, 9, 4, 8, 3, 8,\n",
       "       1, 1, 8, 2, 6, 4, 8, 2, 6, 3, 0, 5, 4, 3, 4, 0, 4, 8, 6, 4, 8, 0,\n",
       "       3, 6, 0, 8, 4, 3, 5, 1, 6, 2, 0, 9])"
      ]
     },
     "execution_count": 5,
     "metadata": {},
     "output_type": "execute_result"
    }
   ],
   "source": [
    "y_predicted= model.predict(x_test)\n",
    "y_predicted"
   ]
  },
  {
   "cell_type": "markdown",
   "metadata": {},
   "source": [
    "**Creating confusion matrix**"
   ]
  },
  {
   "cell_type": "code",
   "execution_count": 6,
   "metadata": {},
   "outputs": [
    {
     "data": {
      "text/plain": [
       "array([[48,  0,  0,  0,  0,  0,  0,  0,  0,  0],\n",
       "       [ 0, 56,  1,  0,  1,  0,  0,  0,  0,  0],\n",
       "       [ 0,  0, 57,  0,  0,  0,  0,  0,  0,  0],\n",
       "       [ 0,  0,  0, 52,  0,  2,  0,  0,  0,  0],\n",
       "       [ 0,  1,  0,  0, 50,  0,  0,  0,  0,  0],\n",
       "       [ 0,  0,  0,  0,  0, 50,  0,  0,  0,  1],\n",
       "       [ 0,  0,  0,  0,  0,  0, 52,  0,  0,  0],\n",
       "       [ 0,  0,  0,  0,  0,  0,  0, 54,  0,  1],\n",
       "       [ 1,  0,  0,  0,  1,  1,  1,  0, 55,  0],\n",
       "       [ 0,  0,  0,  2,  1,  2,  0,  0,  0, 50]], dtype=int64)"
      ]
     },
     "execution_count": 6,
     "metadata": {},
     "output_type": "execute_result"
    }
   ],
   "source": [
    "from sklearn.metrics import confusion_matrix\n",
    "cm= confusion_matrix(y_test,y_predicted)\n",
    "cm\n"
   ]
  },
  {
   "cell_type": "markdown",
   "metadata": {},
   "source": [
    "**Score of Logistic Regression**"
   ]
  },
  {
   "cell_type": "code",
   "execution_count": 7,
   "metadata": {},
   "outputs": [
    {
     "data": {
      "text/plain": [
       "0.9703703703703703"
      ]
     },
     "execution_count": 7,
     "metadata": {},
     "output_type": "execute_result"
    }
   ],
   "source": [
    "model.score(x_test,y_test)"
   ]
  },
  {
   "cell_type": "markdown",
   "metadata": {},
   "source": [
    "**Displaying Confusion matrix in interactive manner**"
   ]
  },
  {
   "cell_type": "code",
   "execution_count": 8,
   "metadata": {},
   "outputs": [
    {
     "name": "stdout",
     "output_type": "stream",
     "text": [
      "Wall time: 0 ns\n"
     ]
    },
    {
     "data": {
      "text/plain": [
       "Text(69.0, 0.5, 'Truth')"
      ]
     },
     "execution_count": 8,
     "metadata": {},
     "output_type": "execute_result"
    },
    {
     "data": {
      "image/png": "[encoded data removed]",
      "text/plain": [
       "<Figure size 720x576 with 2 Axes>"
      ]
     },
     "metadata": {
      "needs_background": "light"
     },
     "output_type": "display_data"
    }
   ],
   "source": [
    "%time\n",
    "import seaborn as sn\n",
    "plt.figure(figsize=(10,8))\n",
    "sn.heatmap(cm,annot = True)\n",
    "plt.xlabel('predicted')\n",
    "plt.ylabel('Truth')\n",
    "\n"
   ]
  },
  {
   "cell_type": "markdown",
   "metadata": {},
   "source": [
    "**Importing SVM and fitting data in SVC algorithm**"
   ]
  },
  {
   "cell_type": "code",
   "execution_count": 9,
   "metadata": {},
   "outputs": [
    {
     "name": "stdout",
     "output_type": "stream",
     "text": [
      "Wall time: 0 ns\n"
     ]
    },
    {
     "data": {
      "text/plain": [
       "SVC(C=1.0, break_ties=False, cache_size=200, class_weight=None, coef0=0.0,\n",
       "    decision_function_shape='ovr', degree=3, gamma='scale', kernel='rbf',\n",
       "    max_iter=-1, probability=False, random_state=None, shrinking=True,\n",
       "    tol=0.001, verbose=False)"
      ]
     },
     "execution_count": 9,
     "metadata": {},
     "output_type": "execute_result"
    }
   ],
   "source": [
    "%time\n",
    "from sklearn.svm import SVC\n",
    "model= SVC()\n",
    "model.fit(x_train,y_train)"
   ]
  },
  {
   "cell_type": "markdown",
   "metadata": {},
   "source": [
    "**Predicting Output**"
   ]
  },
  {
   "cell_type": "code",
   "execution_count": 10,
   "metadata": {},
   "outputs": [
    {
     "data": {
      "text/plain": [
       "array([5, 1, 6, 5, 7, 0, 9, 5, 8, 1, 6, 7, 6, 7, 6, 6, 9, 7, 6, 2, 2, 6,\n",
       "       8, 4, 6, 9, 3, 7, 4, 5, 1, 0, 8, 3, 7, 6, 6, 6, 8, 1, 4, 8, 6, 4,\n",
       "       7, 1, 8, 7, 5, 8, 8, 5, 9, 5, 7, 1, 4, 6, 2, 4, 8, 3, 4, 0, 8, 7,\n",
       "       6, 5, 9, 8, 2, 9, 3, 9, 4, 4, 5, 6, 0, 1, 0, 8, 3, 4, 1, 6, 7, 7,\n",
       "       3, 5, 2, 8, 7, 5, 3, 3, 5, 5, 1, 6, 3, 5, 9, 0, 0, 9, 4, 1, 3, 8,\n",
       "       0, 8, 2, 8, 7, 3, 1, 9, 2, 3, 2, 2, 2, 9, 3, 7, 6, 5, 1, 8, 9, 9,\n",
       "       6, 3, 3, 6, 5, 1, 2, 4, 5, 2, 3, 2, 7, 4, 8, 0, 9, 2, 1, 1, 4, 4,\n",
       "       9, 0, 1, 3, 1, 3, 7, 2, 4, 3, 0, 3, 0, 2, 1, 9, 0, 7, 1, 7, 9, 7,\n",
       "       0, 7, 3, 2, 8, 6, 6, 3, 3, 3, 3, 4, 6, 3, 5, 0, 6, 0, 3, 2, 4, 7,\n",
       "       6, 0, 7, 8, 9, 2, 7, 1, 5, 8, 3, 4, 5, 7, 3, 9, 8, 3, 9, 5, 6, 6,\n",
       "       4, 1, 2, 2, 7, 1, 1, 7, 7, 5, 5, 9, 2, 5, 6, 2, 2, 6, 5, 7, 7, 7,\n",
       "       8, 8, 9, 3, 4, 7, 8, 1, 5, 5, 4, 9, 8, 8, 8, 4, 6, 9, 1, 4, 9, 9,\n",
       "       8, 8, 5, 1, 8, 6, 1, 3, 9, 7, 7, 0, 5, 8, 2, 9, 0, 8, 0, 1, 3, 1,\n",
       "       1, 6, 9, 8, 7, 0, 1, 4, 6, 6, 7, 9, 0, 2, 2, 5, 0, 4, 8, 2, 8, 5,\n",
       "       2, 2, 4, 5, 9, 1, 1, 1, 2, 4, 1, 8, 4, 1, 2, 9, 5, 7, 4, 5, 3, 2,\n",
       "       9, 2, 3, 6, 0, 0, 1, 5, 0, 1, 5, 1, 2, 7, 5, 8, 8, 0, 5, 5, 6, 3,\n",
       "       9, 1, 5, 7, 4, 1, 7, 5, 8, 9, 6, 5, 4, 0, 1, 0, 8, 9, 3, 0, 2, 3,\n",
       "       4, 7, 2, 0, 0, 4, 7, 4, 9, 4, 7, 2, 8, 1, 3, 0, 7, 2, 3, 5, 3, 9,\n",
       "       6, 3, 0, 6, 2, 9, 9, 4, 2, 1, 8, 2, 4, 7, 8, 1, 2, 9, 6, 5, 6, 5,\n",
       "       1, 1, 6, 5, 0, 4, 2, 1, 2, 1, 2, 0, 9, 1, 3, 8, 6, 2, 5, 7, 1, 8,\n",
       "       9, 0, 9, 8, 7, 5, 7, 7, 9, 8, 7, 5, 9, 9, 1, 0, 7, 9, 8, 2, 1, 8,\n",
       "       7, 7, 1, 8, 2, 0, 0, 4, 2, 6, 3, 2, 7, 9, 9, 6, 3, 9, 6, 6, 3, 3,\n",
       "       4, 4, 3, 0, 0, 9, 2, 1, 1, 0, 4, 9, 2, 4, 5, 9, 2, 9, 4, 8, 3, 8,\n",
       "       1, 1, 8, 2, 6, 4, 8, 2, 6, 3, 0, 5, 4, 3, 4, 0, 4, 8, 6, 4, 8, 0,\n",
       "       3, 6, 0, 8, 4, 3, 5, 1, 6, 2, 0, 9])"
      ]
     },
     "execution_count": 10,
     "metadata": {},
     "output_type": "execute_result"
    }
   ],
   "source": [
    "y_predicted= model.predict(x_test)\n",
    "y_predicted"
   ]
  },
  {
   "cell_type": "code",
   "execution_count": 11,
   "metadata": {},
   "outputs": [
    {
     "data": {
      "text/plain": [
       "array([[48,  0,  0,  0,  0,  0,  0,  0,  0,  0],\n",
       "       [ 0, 58,  0,  0,  0,  0,  0,  0,  0,  0],\n",
       "       [ 0,  0, 57,  0,  0,  0,  0,  0,  0,  0],\n",
       "       [ 0,  0,  0, 53,  0,  1,  0,  0,  0,  0],\n",
       "       [ 0,  0,  0,  0, 51,  0,  0,  0,  0,  0],\n",
       "       [ 0,  0,  0,  0,  0, 51,  0,  0,  0,  0],\n",
       "       [ 0,  0,  0,  0,  0,  0, 52,  0,  0,  0],\n",
       "       [ 0,  0,  0,  0,  0,  0,  0, 54,  0,  1],\n",
       "       [ 0,  1,  0,  0,  0,  0,  0,  0, 58,  0],\n",
       "       [ 0,  0,  0,  0,  0,  0,  0,  0,  0, 55]], dtype=int64)"
      ]
     },
     "execution_count": 11,
     "metadata": {},
     "output_type": "execute_result"
    }
   ],
   "source": [
    "from sklearn.metrics import confusion_matrix\n",
    "cm= confusion_matrix(y_test,y_predicted)\n",
    "cm"
   ]
  },
  {
   "cell_type": "markdown",
   "metadata": {},
   "source": [
    "**Predicting output**"
   ]
  },
  {
   "cell_type": "code",
   "execution_count": 12,
   "metadata": {},
   "outputs": [
    {
     "data": {
      "text/plain": [
       "array([5, 1, 6, 5, 7, 0, 9, 5, 8, 1, 6, 7, 6, 7, 6, 6, 9, 7, 6, 2, 2, 6,\n",
       "       8, 4, 6, 9, 3, 7, 4, 5, 1, 0, 8, 3, 7, 6, 6, 6, 8, 1, 4, 8, 6, 4,\n",
       "       7, 1, 8, 7, 5, 8, 8, 5, 9, 5, 7, 1, 4, 6, 2, 4, 8, 3, 4, 0, 8, 7,\n",
       "       6, 5, 9, 8, 2, 9, 3, 9, 4, 4, 5, 6, 0, 1, 0, 8, 3, 4, 1, 6, 7, 7,\n",
       "       3, 5, 2, 8, 7, 5, 3, 3, 5, 5, 1, 6, 3, 5, 9, 0, 0, 9, 4, 1, 3, 8,\n",
       "       0, 8, 2, 8, 7, 3, 1, 9, 2, 3, 2, 2, 2, 9, 3, 7, 6, 5, 1, 8, 9, 9,\n",
       "       6, 3, 3, 6, 5, 1, 2, 4, 5, 2, 3, 2, 7, 4, 8, 0, 9, 2, 1, 1, 4, 4,\n",
       "       9, 0, 1, 3, 1, 3, 7, 2, 4, 3, 0, 3, 0, 2, 1, 9, 0, 7, 1, 7, 9, 7,\n",
       "       0, 7, 3, 2, 8, 6, 6, 3, 3, 3, 3, 4, 6, 3, 5, 0, 6, 0, 3, 2, 4, 7,\n",
       "       6, 0, 7, 8, 9, 2, 7, 1, 5, 8, 3, 4, 5, 7, 3, 9, 8, 3, 9, 5, 6, 6,\n",
       "       4, 1, 2, 2, 7, 1, 1, 7, 7, 5, 5, 9, 2, 5, 6, 2, 2, 6, 5, 7, 7, 7,\n",
       "       8, 8, 9, 3, 4, 7, 8, 1, 5, 5, 4, 9, 8, 8, 8, 4, 6, 9, 1, 4, 9, 9,\n",
       "       8, 8, 5, 1, 8, 6, 1, 3, 9, 7, 7, 0, 5, 8, 2, 9, 0, 8, 0, 1, 3, 1,\n",
       "       1, 6, 9, 8, 7, 0, 1, 4, 6, 6, 7, 9, 0, 2, 2, 5, 0, 4, 8, 2, 8, 5,\n",
       "       2, 2, 4, 5, 9, 1, 1, 1, 2, 4, 1, 8, 4, 1, 2, 9, 5, 7, 4, 5, 3, 2,\n",
       "       9, 2, 3, 6, 0, 0, 1, 5, 0, 1, 5, 1, 2, 7, 5, 8, 8, 0, 5, 5, 6, 3,\n",
       "       9, 1, 5, 7, 4, 1, 7, 5, 8, 9, 6, 5, 4, 0, 1, 0, 8, 9, 3, 0, 2, 3,\n",
       "       4, 7, 2, 0, 0, 4, 7, 4, 9, 4, 7, 2, 8, 1, 3, 0, 7, 2, 3, 5, 3, 9,\n",
       "       6, 3, 0, 6, 2, 9, 9, 4, 2, 1, 8, 2, 4, 7, 8, 1, 2, 9, 6, 5, 6, 5,\n",
       "       1, 1, 6, 5, 0, 4, 2, 1, 2, 1, 2, 0, 9, 1, 3, 8, 6, 2, 5, 7, 1, 8,\n",
       "       9, 0, 9, 8, 7, 5, 7, 7, 9, 8, 7, 5, 9, 9, 1, 0, 7, 9, 8, 2, 1, 8,\n",
       "       7, 7, 1, 8, 2, 0, 0, 4, 2, 6, 3, 2, 7, 9, 9, 6, 3, 9, 6, 6, 3, 3,\n",
       "       4, 4, 3, 0, 0, 9, 2, 1, 1, 0, 4, 9, 2, 4, 5, 9, 2, 9, 4, 8, 3, 8,\n",
       "       1, 1, 8, 2, 6, 4, 8, 2, 6, 3, 0, 5, 4, 3, 4, 0, 4, 8, 6, 4, 8, 0,\n",
       "       3, 6, 0, 8, 4, 3, 5, 1, 6, 2, 0, 9])"
      ]
     },
     "execution_count": 12,
     "metadata": {},
     "output_type": "execute_result"
    }
   ],
   "source": [
    "y_predicted= model.predict(x_test)\n",
    "y_predicted"
   ]
  },
  {
   "cell_type": "markdown",
   "metadata": {},
   "source": [
    "**Accuracy of SVM algorithm**"
   ]
  },
  {
   "cell_type": "code",
   "execution_count": 13,
   "metadata": {},
   "outputs": [
    {
     "data": {
      "text/plain": [
       "0.9944444444444445"
      ]
     },
     "execution_count": 13,
     "metadata": {},
     "output_type": "execute_result"
    }
   ],
   "source": [
    "model.score(x_test,y_test)"
   ]
  },
  {
   "cell_type": "markdown",
   "metadata": {},
   "source": [
    "**Displaying confusion matrix in interactive manner**"
   ]
  },
  {
   "cell_type": "code",
   "execution_count": 14,
   "metadata": {},
   "outputs": [
    {
     "name": "stdout",
     "output_type": "stream",
     "text": [
      "Wall time: 0 ns\n"
     ]
    },
    {
     "data": {
      "text/plain": [
       "Text(69.0, 0.5, 'Truth')"
      ]
     },
     "execution_count": 14,
     "metadata": {},
     "output_type": "execute_result"
    },
    {
     "data": {
      "image/png": "[encoded data removed]",
      "text/plain": [
       "<Figure size 720x576 with 2 Axes>"
      ]
     },
     "metadata": {
      "needs_background": "light"
     },
     "output_type": "display_data"
    }
   ],
   "source": [
    "\n",
    "%time\n",
    "import seaborn as sn\n",
    "plt.figure(figsize=(10,8))\n",
    "sn.heatmap(cm,annot = True)\n",
    "plt.xlabel('predicted')\n",
    "plt.ylabel('Truth')\n"
   ]
  },
  {
   "cell_type": "code",
   "execution_count": null,
   "metadata": {},
   "outputs": [],
   "source": []
  }
 ],
 "metadata": {
  "kernelspec": {
   "display_name": "Python 3",
   "language": "python",
   "name": "python3"
  },
  "language_info": {
   "codemirror_mode": {
    "name": "ipython",
    "version": 3
   },
   "file_extension": ".py",
   "mimetype": "text/x-python",
   "name": "python",
   "nbconvert_exporter": "python",
   "pygments_lexer": "ipython3",
   "version": "3.7.6"
  }
 },
 "nbformat": 4,
 "nbformat_minor": 4
}
